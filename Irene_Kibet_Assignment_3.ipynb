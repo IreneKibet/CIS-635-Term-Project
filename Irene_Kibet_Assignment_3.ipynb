{
  "nbformat": 4,
  "nbformat_minor": 0,
  "metadata": {
    "colab": {
      "provenance": [],
      "include_colab_link": true
    },
    "kernelspec": {
      "name": "python3",
      "display_name": "Python 3"
    },
    "language_info": {
      "name": "python"
    }
  },
  "cells": [
    {
      "cell_type": "markdown",
      "metadata": {
        "id": "view-in-github",
        "colab_type": "text"
      },
      "source": [
        "<a href=\"https://colab.research.google.com/github/IreneKibet/CIS-635-Term-Project/blob/main/Irene_Kibet_Assignment_3.ipynb\" target=\"_parent\"><img src=\"https://colab.research.google.com/assets/colab-badge.svg\" alt=\"Open In Colab\"/></a>"
      ]
    },
    {
      "cell_type": "markdown",
      "source": [
        "# Assignment 4\n",
        "\n",
        "## Model Selection and Evaluation on the Iris Dataset\n",
        "\n",
        "Details of this assignment can be found [here](https://yong-zhuang.github.io/gvsu-cis635/assignment3.html)"
      ],
      "metadata": {
        "id": "lU4AjtSv2_97"
      }
    },
    {
      "cell_type": "markdown",
      "source": [
        "### Question 1\n",
        "### Loading and transforming the Iris dataset"
      ],
      "metadata": {
        "id": "BocxH82_2C8G"
      }
    },
    {
      "cell_type": "code",
      "source": [
        "# Loading the Iris Datasetd\n",
        "from sklearn.datasets import load_iris\n",
        "\n",
        "# Load the Iris dataset\n",
        "iris = load_iris()\n",
        "\n",
        "#Checking the dataset type\n",
        "print(type(iris))\n"
      ],
      "metadata": {
        "id": "QVLJp1RT_cya",
        "colab": {
          "base_uri": "https://localhost:8080/"
        },
        "outputId": "d3278da8-61be-4a0e-d272-f666baec33b7"
      },
      "execution_count": null,
      "outputs": [
        {
          "output_type": "stream",
          "name": "stdout",
          "text": [
            "<class 'sklearn.utils._bunch.Bunch'>\n"
          ]
        }
      ]
    },
    {
      "cell_type": "code",
      "source": [
        "#Storing the feature matrix in X and the target vector in y\n",
        "X = iris.data\n",
        "y = iris.target\n",
        "\n",
        "# Checking the shapes of the feature matrix and the target\n",
        "print(X.shape)\n",
        "print(y.shape)\n"
      ],
      "metadata": {
        "colab": {
          "base_uri": "https://localhost:8080/"
        },
        "id": "WUUl4685K-n0",
        "outputId": "ce5ef3c9-d334-4e52-a657-ab845b21166c"
      },
      "execution_count": null,
      "outputs": [
        {
          "output_type": "stream",
          "name": "stdout",
          "text": [
            "(150, 4)\n",
            "(150,)\n"
          ]
        }
      ]
    },
    {
      "cell_type": "code",
      "source": [
        "print(iris.feature_names)\n",
        "print(iris.target_names)\n",
        "print(iris.target)"
      ],
      "metadata": {
        "colab": {
          "base_uri": "https://localhost:8080/"
        },
        "id": "R4erhiLy8VhL",
        "outputId": "69d1ca09-45f6-491c-f23f-c82644bc498f"
      },
      "execution_count": null,
      "outputs": [
        {
          "output_type": "stream",
          "name": "stdout",
          "text": [
            "['sepal length (cm)', 'sepal width (cm)', 'petal length (cm)', 'petal width (cm)']\n",
            "['setosa' 'versicolor' 'virginica']\n",
            "[0 0 0 0 0 0 0 0 0 0 0 0 0 0 0 0 0 0 0 0 0 0 0 0 0 0 0 0 0 0 0 0 0 0 0 0 0\n",
            " 0 0 0 0 0 0 0 0 0 0 0 0 0 1 1 1 1 1 1 1 1 1 1 1 1 1 1 1 1 1 1 1 1 1 1 1 1\n",
            " 1 1 1 1 1 1 1 1 1 1 1 1 1 1 1 1 1 1 1 1 1 1 1 1 1 1 2 2 2 2 2 2 2 2 2 2 2\n",
            " 2 2 2 2 2 2 2 2 2 2 2 2 2 2 2 2 2 2 2 2 2 2 2 2 2 2 2 2 2 2 2 2 2 2 2 2 2\n",
            " 2 2]\n"
          ]
        }
      ]
    },
    {
      "cell_type": "markdown",
      "source": [
        "### Question 2\n",
        "#### Exploratory Data Analysis"
      ],
      "metadata": {
        "id": "d8bQgh0q4W_f"
      }
    },
    {
      "cell_type": "code",
      "source": [
        "# Converting the Iris data into a DataFrame\n",
        "import pandas as pd\n",
        "iris_df = pd.DataFrame(data=iris.data, columns=iris.feature_names)\n",
        "\n",
        "# Assigning the column name to the target\n",
        "iris_df['species'] = iris.target_names[iris.target]\n",
        "\n",
        "# Checking the number of samples for each species\n",
        "species_counts = iris_df['species'].value_counts()\n",
        "print(\"The number of samples in each species are:\")\n",
        "print(species_counts)\n",
        "print(\"\\nAll three classes have the same number of samples.\")\n",
        "\n",
        "# Checking class balance\n",
        "class_ratio_percent = iris_df['species'].value_counts(normalize=True) * 100\n",
        "print('\\nClass Ratio (in percentages):')\n",
        "for class_label, percentage in class_ratio_percent.items():\n",
        "    print(f\"{class_label}: {percentage:.2f}%\")\n"
      ],
      "metadata": {
        "colab": {
          "base_uri": "https://localhost:8080/"
        },
        "id": "Pgx5gtR_2xDZ",
        "outputId": "7b0496d4-c83c-4181-ea17-07bf341d82b8"
      },
      "execution_count": null,
      "outputs": [
        {
          "output_type": "stream",
          "name": "stdout",
          "text": [
            "The number of samples in each species are:\n",
            "setosa        50\n",
            "versicolor    50\n",
            "virginica     50\n",
            "Name: species, dtype: int64\n",
            "\n",
            "All three classes have the same number of samples.\n",
            "\n",
            "Class Ratio (in percentages):\n",
            "setosa: 33.33%\n",
            "versicolor: 33.33%\n",
            "virginica: 33.33%\n"
          ]
        }
      ]
    },
    {
      "cell_type": "code",
      "source": [
        "#Importing packages for visualizing the data\n",
        "import seaborn as sns\n",
        "import matplotlib.pyplot as plt\n",
        "\n",
        "sns.FacetGrid(iris_df, hue=\"species\", height=6).map(plt.scatter, \"petal length (cm)\", \"petal width (cm)\").add_legend()\n",
        "\n",
        "# Show the plot\n",
        "plt.show()\n"
      ],
      "metadata": {
        "colab": {
          "base_uri": "https://localhost:8080/",
          "height": 607
        },
        "id": "PUz-h6Gd4vE_",
        "outputId": "fe0510ee-cb0b-48aa-fbef-b19165f880a5"
      },
      "execution_count": null,
      "outputs": [
        {
          "output_type": "display_data",
          "data": {
            "text/plain": [
              "<Figure size 717.75x600 with 1 Axes>"
            ],
            "image/png": "[encoded data removed]"
          },
          "metadata": {}
        }
      ]
    },
    {
      "cell_type": "markdown",
      "source": [
        "### Question 3\n",
        "### Data Normalization"
      ],
      "metadata": {
        "id": "-NrxN0zx7qQq"
      }
    },
    {
      "cell_type": "code",
      "source": [
        "# Checking the summary statistics of the features to determine whether normalization is necessary\n",
        "feature_summary = iris_df.describe()\n",
        "\n",
        "# Display the feature statistics\n",
        "print(\"Feature summary statistics:\")\n",
        "print(feature_summary)\n",
        "\n",
        "# Check the scale of the features\n",
        "scale_range = feature_summary.loc['max'] - feature_summary.loc['min']\n",
        "\n",
        "print(\"\\nRange between smallest and larget value of each feature\")\n",
        "print(scale_range)"
      ],
      "metadata": {
        "colab": {
          "base_uri": "https://localhost:8080/"
        },
        "id": "POcmBWys7mRW",
        "outputId": "b886b6d8-a366-4595-c8bc-1cd07c82c219"
      },
      "execution_count": null,
      "outputs": [
        {
          "output_type": "stream",
          "name": "stdout",
          "text": [
            "Feature summary statistics:\n",
            "       sepal length (cm)  sepal width (cm)  petal length (cm)  \\\n",
            "count         150.000000        150.000000         150.000000   \n",
            "mean            5.843333          3.057333           3.758000   \n",
            "std             0.828066          0.435866           1.765298   \n",
            "min             4.300000          2.000000           1.000000   \n",
            "25%             5.100000          2.800000           1.600000   \n",
            "50%             5.800000          3.000000           4.350000   \n",
            "75%             6.400000          3.300000           5.100000   \n",
            "max             7.900000          4.400000           6.900000   \n",
            "\n",
            "       petal width (cm)  \n",
            "count        150.000000  \n",
            "mean           1.199333  \n",
            "std            0.762238  \n",
            "min            0.100000  \n",
            "25%            0.300000  \n",
            "50%            1.300000  \n",
            "75%            1.800000  \n",
            "max            2.500000  \n",
            "\n",
            "Range between smallest and larget value of each feature\n",
            "sepal length (cm)    3.6\n",
            "sepal width (cm)     2.4\n",
            "petal length (cm)    5.9\n",
            "petal width (cm)     2.4\n",
            "dtype: float64\n"
          ]
        }
      ]
    },
    {
      "cell_type": "markdown",
      "source": [
        "Based on the scale range of the sample values, there is a big difference in the values of the feature \"petal length\" that necessitates normalization to ensure that all features contribute equally and to prevent features with larger scales from having a disproportionate impact on the results of the models.\n",
        "\n",
        "---\n",
        "\n"
      ],
      "metadata": {
        "id": "Xe_N5mkMPu2N"
      }
    },
    {
      "cell_type": "code",
      "source": [
        "#Scaling the features\n",
        "from sklearn.preprocessing import MinMaxScaler\n",
        "from sklearn import preprocessing\n",
        "\n",
        "#Initializing the MinMaxScaler\n",
        "scaler = preprocessing.MinMaxScaler()\n",
        "\n",
        "# Normalizing the scale of the feature matrix\n",
        "X_scaled = scaler.fit_transform(X)\n"
      ],
      "metadata": {
        "id": "fnCwrZC7Rk5A"
      },
      "execution_count": null,
      "outputs": []
    },
    {
      "cell_type": "markdown",
      "source": [
        "### Question 4\n",
        "### Stratified K-Fold Cross-Validation Framework"
      ],
      "metadata": {
        "id": "nQmk9kchTR7q"
      }
    },
    {
      "cell_type": "code",
      "source": [
        "# Splitting the data for cross validation\n",
        "\n",
        "from sklearn.model_selection import StratifiedKFold\n",
        "# Creating StratifiedKFold object and initializing Stratified K-Fold with k=3\n",
        "skf = StratifiedKFold(n_splits=3, shuffle=True, random_state=100)\n",
        "\n",
        "for i, (train_index, test_index) in enumerate(skf.split(X_scaled, y)):\n",
        "  print(f\"Fold {i}:\")\n",
        "  print(f\"  Train: index={train_index}\")\n",
        "  print(f\"  \\nTest:  index={test_index}\")\n"
      ],
      "metadata": {
        "id": "oGnM-CP4Tb_y",
        "colab": {
          "base_uri": "https://localhost:8080/"
        },
        "outputId": "6ce6d32f-5cc2-484e-a2d1-d2ec3efacfb3"
      },
      "execution_count": null,
      "outputs": [
        {
          "output_type": "stream",
          "name": "stdout",
          "text": [
            "Fold 0:\n",
            "  Train: index=[  1   2   3   4   5   7   8   9  12  13  14  15  16  17  18  20  21  22\n",
            "  23  24  29  30  31  32  35  36  37  39  41  42  45  46  48  52  53  54\n",
            "  56  57  58  61  63  64  66  67  68  70  71  74  76  77  78  80  81  82\n",
            "  83  85  86  89  91  93  94  95  96  97  98  99 100 102 103 105 108 109\n",
            " 111 114 115 116 117 118 119 120 121 123 126 127 128 129 131 132 133 135\n",
            " 136 138 139 140 142 143 145 146 147 148]\n",
            "  \n",
            "Test:  index=[  0   6  10  11  19  25  26  27  28  33  34  38  40  43  44  47  49  50\n",
            "  51  55  59  60  62  65  69  72  73  75  79  84  87  88  90  92 101 104\n",
            " 106 107 110 112 113 122 124 125 130 134 137 141 144 149]\n",
            "Fold 1:\n",
            "  Train: index=[  0   1   2   4   5   6   9  10  11  13  14  17  19  20  25  26  27  28\n",
            "  30  33  34  35  36  37  38  39  40  41  43  44  46  47  49  50  51  54\n",
            "  55  56  57  59  60  62  63  65  66  69  72  73  74  75  77  78  79  82\n",
            "  84  85  87  88  90  91  92  94  95  96  97  98  99 101 102 103 104 105\n",
            " 106 107 110 111 112 113 114 116 120 122 124 125 127 129 130 131 132 134\n",
            " 137 139 140 141 143 144 146 147 148 149]\n",
            "  \n",
            "Test:  index=[  3   7   8  12  15  16  18  21  22  23  24  29  31  32  42  45  48  52\n",
            "  53  58  61  64  67  68  70  71  76  80  81  83  86  89  93 100 108 109\n",
            " 115 117 118 119 121 123 126 128 133 135 136 138 142 145]\n",
            "Fold 2:\n",
            "  Train: index=[  0   3   6   7   8  10  11  12  15  16  18  19  21  22  23  24  25  26\n",
            "  27  28  29  31  32  33  34  38  40  42  43  44  45  47  48  49  50  51\n",
            "  52  53  55  58  59  60  61  62  64  65  67  68  69  70  71  72  73  75\n",
            "  76  79  80  81  83  84  86  87  88  89  90  92  93 100 101 104 106 107\n",
            " 108 109 110 112 113 115 117 118 119 121 122 123 124 125 126 128 130 133\n",
            " 134 135 136 137 138 141 142 144 145 149]\n",
            "  \n",
            "Test:  index=[  1   2   4   5   9  13  14  17  20  30  35  36  37  39  41  46  54  56\n",
            "  57  63  66  74  77  78  82  85  91  94  95  96  97  98  99 102 103 105\n",
            " 111 114 116 120 127 129 131 132 139 140 143 146 147 148]\n"
          ]
        }
      ]
    },
    {
      "cell_type": "markdown",
      "source": [
        "### Question 5, 6 & 7\n",
        "#### Fitting the data for classification and comparing the performance of the various classification models."
      ],
      "metadata": {
        "id": "BPvzq7BwDkPv"
      }
    },
    {
      "cell_type": "code",
      "source": [
        "from google.colab import drive\n",
        "drive.mount('/content/drive')"
      ],
      "metadata": {
        "id": "unKxUDLweYmj"
      },
      "execution_count": null,
      "outputs": []
    },
    {
      "cell_type": "code",
      "source": [
        "# Importing the required packages for classification models\n",
        "from sklearn.neighbors import KNeighborsClassifier\n",
        "from sklearn.tree import DecisionTreeClassifier\n",
        "from sklearn.ensemble import RandomForestClassifier, AdaBoostClassifier\n",
        "from sklearn.naive_bayes import GaussianNB\n",
        "from sklearn.metrics import roc_auc_score, f1_score\n",
        "from sklearn.model_selection import cross_val_score\n",
        "\n",
        "# Creating a list to store all the classifiers for the models to be used for classification.\n",
        "classifiers = [\n",
        "    (\"K-Nearest Neighbors Classifier\", KNeighborsClassifier()),\n",
        "    (\"Decision Tree Classifier\", DecisionTreeClassifier(random_state=68)),\n",
        "    (\"Random Forest Classifier\", RandomForestClassifier(n_estimators=100, random_state=68)),\n",
        "    (\"AdaBoost Classifier\", AdaBoostClassifier(n_estimators=50, random_state=68)),\n",
        "    (\"Naive Bayes Classifier\", GaussianNB())\n",
        "]\n",
        "\n",
        "# Initiating the cross-validation testing metrics that we will use\n",
        "performance_metrics = ['roc_auc', 'f1']\n",
        "\n",
        "# We iterate through each one of the classifiers and check its performance score\n",
        "for classifier_name, classifier in classifiers:\n",
        "    print(f\"\\n{classifier_name}\")\n",
        "    for metric in performance_metrics:\n",
        "        score = cross_val_score(classifier, X_scaled, y, cv=skf)\n",
        "        mean_score = score.mean()\n",
        "        std_score = score.std()\n",
        "        print(f\"{metric.upper()}: {mean_score:.3f} +/- {std_score:.3f}\")"
      ],
      "metadata": {
        "colab": {
          "base_uri": "https://localhost:8080/"
        },
        "id": "fmSHqQkt_Dmc",
        "outputId": "e22d2101-c3b4-4d98-b838-3d5ed1b1369d"
      },
      "execution_count": null,
      "outputs": [
        {
          "output_type": "stream",
          "name": "stdout",
          "text": [
            "\n",
            "K-Nearest Neighbors Classifier\n",
            "ROC_AUC: 0.987 +/- 0.009\n",
            "F1: 0.987 +/- 0.009\n",
            "\n",
            "Decision Tree Classifier\n",
            "ROC_AUC: 0.960 +/- 0.016\n",
            "F1: 0.960 +/- 0.016\n",
            "\n",
            "Random Forest Classifier\n",
            "ROC_AUC: 0.967 +/- 0.019\n",
            "F1: 0.967 +/- 0.019\n",
            "\n",
            "AdaBoost Classifier\n",
            "ROC_AUC: 0.953 +/- 0.009\n",
            "F1: 0.953 +/- 0.009\n",
            "\n",
            "Naive Bayes Classifier\n",
            "ROC_AUC: 0.953 +/- 0.025\n",
            "F1: 0.953 +/- 0.025\n"
          ]
        }
      ]
    },
    {
      "cell_type": "markdown",
      "source": [
        "### Question 8\n",
        "#### Model Evaluation\n",
        "From the scores displayed above:\n",
        "\n",
        "*   K-Nearest Neighbors (KNN) has the highest mean scores for both ROC-AUC and F1 Score, indicating strong performance.\n",
        "* Decision Tree and Random Forest also perform well but have slightly lower mean scores than KNN.\n",
        "*   AdaBoost and Naive Bayes have lower mean scores compared to the other models.\n",
        "\n",
        "Based on the performance scores, the K-Nearest Neighbors (KNN) classifier appears to be the best-performing model for this dataset. It consistently achieves the highest mean scores for both ROC-AUC and F1 Score, suggesting robust performance in terms of both discrimination and precision-recall characteristics. KNN provides the most accurate results for our classification problem.\n",
        "\n",
        "In conclusion, we can achieve improved accuracy for some of these classification models with hyperparameter tuning and better normalization techniques."
      ],
      "metadata": {
        "id": "z_BuMXT9Lid2"
      }
    }
  ]
}